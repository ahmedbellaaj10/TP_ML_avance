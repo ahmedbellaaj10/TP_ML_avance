{
  "cells": [
    {
      "cell_type": "markdown",
      "metadata": {
        "id": "view-in-github",
        "colab_type": "text"
      },
      "source": [
        "<a href=\"https://colab.research.google.com/github/ahmedbellaaj10/TP_ML_avance/blob/main/Lab_DL__RNN_CLASS__keras__2021_10_05__imdb__student.ipynb\" target=\"_parent\"><img src=\"https://colab.research.google.com/assets/colab-badge.svg\" alt=\"Open In Colab\"/></a>"
      ]
    },
    {
      "cell_type": "markdown",
      "metadata": {
        "id": "PBFqSEkKqpCN"
      },
      "source": [
        "# Lab Deep Learning/ Recurrent Neural Networks/ in keras\n",
        "\n",
        "## Using Many-to-One for movie rating predicton\n",
        "\n",
        "**Author: geoffroy.peeters@telecom-paris.fr**\n",
        "\n",
        "**Version**: 2021/10/05 (changed to tensorfow.keras)\n",
        "\n",
        "For any remark or suggestion, please feel free to contact me.\n",
        "\n",
        "## Objective:\n",
        "We will implement two different networks to perform automatic rating (0 or 1) of a movie given the text of its review.\n",
        "We will use the ```imdb``` (internet movie database) dataset.\n",
        "\n",
        "The reviews are already available in the form of indexes that point to a word dictionary: each word is already encoded as an index in the dictionary."
      ]
    },
    {
      "cell_type": "markdown",
      "metadata": {
        "id": "QmkCSNaXLqjh"
      },
      "source": [
        "## Import packages"
      ]
    },
    {
      "cell_type": "code",
      "execution_count": null,
      "metadata": {
        "id": "AOqjzDwioJj9"
      },
      "outputs": [],
      "source": [
        "import numpy as np\n",
        "from tensorflow.keras.datasets import imdb\n",
        "\n",
        "from tensorflow.keras import backend as K\n",
        "from tensorflow.keras import Model\n",
        "from tensorflow.keras.models import Sequential\n",
        "from tensorflow.keras.preprocessing import sequence\n",
        "from tensorflow.keras.layers import Dense, Activation, Embedding, Dropout, Input, LSTM, Reshape, Lambda, RepeatVector\n",
        "\n",
        "colab = True\n",
        "student = True"
      ]
    },
    {
      "cell_type": "markdown",
      "metadata": {
        "id": "v5Yp4OQVvUtr"
      },
      "source": [
        "## Parameters of the model\n",
        "\n",
        "-  We only consider the ```top_words``` first words in the word dictionary\n",
        "- We truncate/zero-pad each sequence a length ```max_review_length```"
      ]
    },
    {
      "cell_type": "markdown",
      "source": [],
      "metadata": {
        "id": "ca8XkEkGXCDH"
      }
    },
    {
      "cell_type": "code",
      "execution_count": null,
      "metadata": {
        "id": "4C_Pv7rYvRkM"
      },
      "outputs": [],
      "source": [
        "top_words = 5000\n",
        "max_review_length = 100\n",
        "INDEX_FROM = 3\n",
        "embedding_vector_length = 32"
      ]
    },
    {
      "cell_type": "markdown",
      "metadata": {
        "id": "ZsNcRimyLzgP"
      },
      "source": [
        "## Import IMDB data"
      ]
    },
    {
      "cell_type": "code",
      "execution_count": null,
      "metadata": {
        "id": "82dMfknplQYJ",
        "colab": {
          "base_uri": "https://localhost:8080/"
        },
        "outputId": "1542b5ca-0250-4883-c2c8-3ece5bd1ecb5"
      },
      "outputs": [
        {
          "output_type": "stream",
          "name": "stdout",
          "text": [
            "Downloading data from https://storage.googleapis.com/tensorflow/tf-keras-datasets/imdb.npz\n",
            "17464789/17464789 [==============================] - 2s 0us/step\n"
          ]
        }
      ],
      "source": [
        "# --- Import the IMDB data and only consider the ``top_words``` most used words\n",
        "np.load.__defaults__=(None, True, True, 'ASCII')\n",
        "(X_train, y_train), (X_test, y_test) = imdb.load_data(num_words=top_words, index_from=INDEX_FROM)\n",
        "np.load.__defaults__=(None, False, True, 'ASCII')"
      ]
    },
    {
      "cell_type": "markdown",
      "metadata": {
        "id": "iSc5LmksOLyr"
      },
      "source": [
        "## Data content\n",
        "\n",
        "- ```X_train``` and ```X_test``` are numpy arrays of lists.\n",
        "  - each item in a list is the index in the word dictionary. So that a list is the sequence of index of words.\n",
        "\n",
        "- ```y_train``` and ```y_test``` are a numpy arrays of the same dimension as ```X_train``` and ```X_test```\n",
        "  - they contains the values 0 (bad movie) or 1 (good movie)"
      ]
    },
    {
      "cell_type": "code",
      "execution_count": null,
      "metadata": {
        "id": "WouODCPrtiuu",
        "colab": {
          "base_uri": "https://localhost:8080/",
          "height": 679
        },
        "outputId": "e033380f-ffea-4011-c644-f7d1c930d7ea"
      },
      "outputs": [
        {
          "output_type": "stream",
          "name": "stdout",
          "text": [
            "type(X_train): <class 'numpy.ndarray'>\n",
            "number of training sequences: X_train.shape: (25000, 100)\n",
            "type(X_train[0]): <class 'numpy.ndarray'>\n",
            "length of the first training sequence: len(X_train[0]): 100\n",
            "length of the second training sequence: len(X_train[1]): 100\n",
            "list of data of the first training sequence: X_train[0]: [1415   33    6   22   12  215   28   77   52    5   14  407   16   82\n",
            "    2    8    4  107  117    2   15  256    4    2    7 3766    5  723\n",
            "   36   71   43  530  476   26  400  317   46    7    4    2 1029   13\n",
            "  104   88    4  381   15  297   98   32 2071   56   26  141    6  194\n",
            "    2   18    4  226   22   21  134  476   26  480    5  144   30    2\n",
            "   18   51   36   28  224   92   25  104    4  226   65   16   38 1334\n",
            "   88   12   16  283    5   16 4472  113  103   32   15   16    2   19\n",
            "  178   32]\n",
            "maximum length of a training sequence: 100\n"
          ]
        },
        {
          "output_type": "display_data",
          "data": {
            "text/plain": [
              "<Figure size 640x480 with 1 Axes>"
            ],
            "image/png": "[encoded data removed]"
          },
          "metadata": {}
        }
      ],
      "source": [
        "print(\"type(X_train):\", type(X_train))\n",
        "print(\"number of training sequences: X_train.shape:\", X_train.shape)\n",
        "print(\"type(X_train[0]):\",type(X_train[0]))\n",
        "print(\"length of the first training sequence: len(X_train[0]):\",len(X_train[0]))\n",
        "print(\"length of the second training sequence: len(X_train[1]):\",len(X_train[1]))\n",
        "print(\"list of data of the first training sequence: X_train[0]:\", X_train[0] )\n",
        "len_list = [len(train) for train in X_train]\n",
        "print(\"maximum length of a training sequence:\", max(len_list))\n",
        "\n",
        "import matplotlib.pyplot as plt\n",
        "plt.hist(len_list, 100);"
      ]
    },
    {
      "cell_type": "markdown",
      "metadata": {
        "id": "2I-cEKUh_HM4"
      },
      "source": [
        "## Details of how the reviews are encoded"
      ]
    },
    {
      "cell_type": "code",
      "execution_count": null,
      "metadata": {
        "id": "XcOwiMUT_HM5",
        "colab": {
          "base_uri": "https://localhost:8080/"
        },
        "outputId": "88f8ab2c-d570-46ec-8cbc-0698115fabf0"
      },
      "outputs": [
        {
          "output_type": "stream",
          "name": "stdout",
          "text": [
            "Downloading data from https://storage.googleapis.com/tensorflow/tf-keras-datasets/imdb_word_index.json\n",
            "1641221/1641221 [==============================] - 1s 1us/step\n",
            "the stone streets of <UNK> on his way to a date with destiny and the game br br star kurt thomas was ill served by director robert <UNK> who it looks like was never on the set the so called script is just this side of incompetent see other reviews for the many <UNK> throughout the town of <UNK> has a few good moments but is ultimately ruined by bad editing the ending <UNK> still there's the <UNK> of a good action adventure here a hong kong version with more <UNK> action and faster pace might even be pretty good\n"
          ]
        }
      ],
      "source": [
        "word_to_id = imdb.get_word_index()\n",
        "word_to_id = {k:(v+INDEX_FROM) for k,v in word_to_id.items()}\n",
        "word_to_id[\"<PAD>\"] = 0\n",
        "word_to_id[\"<START>\"] = 1\n",
        "word_to_id[\"<UNK>\"] = 2\n",
        "\n",
        "id_to_word = {value:key for key,value in word_to_id.items()}\n",
        "print(' '.join(id_to_word[id] for id in X_train[1000] ))"
      ]
    },
    {
      "cell_type": "code",
      "execution_count": null,
      "metadata": {
        "id": "Hfl42LGCugWB",
        "colab": {
          "base_uri": "https://localhost:8080/"
        },
        "outputId": "7391e871-fd5b-4aeb-cab9-a2748680d041"
      },
      "outputs": [
        {
          "output_type": "stream",
          "name": "stdout",
          "text": [
            "type(y_train): <class 'numpy.ndarray'>\n",
            "y_train.shape: (25000,)\n"
          ]
        }
      ],
      "source": [
        "print(\"type(y_train):\", type(y_train))\n",
        "print(\"y_train.shape:\", y_train.shape)"
      ]
    },
    {
      "cell_type": "code",
      "execution_count": null,
      "metadata": {
        "id": "iVw65PNNuobX",
        "colab": {
          "base_uri": "https://localhost:8080/"
        },
        "outputId": "c2209948-5c4c-42c0-aba6-36904fcc0d44"
      },
      "outputs": [
        {
          "output_type": "stream",
          "name": "stdout",
          "text": [
            "X_test.shape: (25000,)\n",
            "y_test.shape: (25000,)\n"
          ]
        }
      ],
      "source": [
        "print(\"X_test.shape:\", X_test.shape)\n",
        "print(\"y_test.shape:\", y_test.shape)"
      ]
    },
    {
      "cell_type": "markdown",
      "metadata": {
        "id": "V18OA7oQNH3c"
      },
      "source": [
        "## Data processing\n",
        "\n",
        "Sequences (represented as a list of values) in ```X_train``` represent the reviews.\n",
        "They can have different length.\n",
        "To train the network we should modify them so that they all have the same length.\n",
        "We do this by:\n",
        "- truncating the ones that are too long\n",
        "- padding-with-zero them the ones that are too short.\n",
        "\n",
        "This is obtained using ```sequence.pad_sequences``` of keras."
      ]
    },
    {
      "cell_type": "code",
      "execution_count": null,
      "metadata": {
        "id": "JhmiHsOGoRwT",
        "colab": {
          "base_uri": "https://localhost:8080/"
        },
        "outputId": "1a1c4d95-dde7-461b-d3e3-1677960a2327"
      },
      "outputs": [
        {
          "output_type": "stream",
          "name": "stdout",
          "text": [
            "len(X_train[0]): 100\n",
            "len(X_train[1]): 100\n",
            "X_train[0]: [1415   33    6   22   12  215   28   77   52    5   14  407   16   82\n",
            "    2    8    4  107  117    2   15  256    4    2    7 3766    5  723\n",
            "   36   71   43  530  476   26  400  317   46    7    4    2 1029   13\n",
            "  104   88    4  381   15  297   98   32 2071   56   26  141    6  194\n",
            "    2   18    4  226   22   21  134  476   26  480    5  144   30    2\n",
            "   18   51   36   28  224   92   25  104    4  226   65   16   38 1334\n",
            "   88   12   16  283    5   16 4472  113  103   32   15   16    2   19\n",
            "  178   32]\n"
          ]
        }
      ],
      "source": [
        "# --- truncate and pad input sequences\n",
        "\n",
        "if student:\n",
        "    # --- START CODE HERE (01)\n",
        "    ...\n",
        "    # --- END CODE HERE\n",
        "\n",
        "print(\"len(X_train[0]):\", len(X_train[0]))\n",
        "print(\"len(X_train[1]):\", len(X_train[1]))\n",
        "print(\"X_train[0]:\", X_train[0])"
      ]
    },
    {
      "cell_type": "markdown",
      "metadata": {
        "id": "YlrDTuk5K65Q"
      },
      "source": [
        "# First model\n",
        "\n",
        "<img src=\"https://perso.telecom-paristech.fr/gpeeters/doc/Lab_DL_RNN_01.png\">\n",
        "\n",
        "In the first model, we will simply\n",
        "- learn a word embedding  (```Embedding``` layer in keras) and apply it to each item of the sequence,\n",
        "  -  in keras, embedding is not a matrix going from one-hot-encoding to embedding, but is a layer that goes from index-in-word-dictionary to embedding\n",
        "  - the embedding goes from ```top_words``` dimensions to  ```embedding_vector_length``` dimensions\n",
        "- average the embedding obtained for each word of a sequence over all words of the sequence (you should use ```K.mean``` and ```Lambda``` from the keras backend)\n",
        "- apply a fully connected (```Dense``` layer in keras) which output activation is a sigmoid (predicting the 0 or 1 rating)\n",
        "\n",
        "We will code this model\n",
        "- First, using the Sequential API of keras (https://keras.io/models/sequential/)\n",
        "- Secondly, using the Functional API of keras (https://keras.io/getting-started/functional-api-guide/)\n"
      ]
    },
    {
      "cell_type": "code",
      "execution_count": null,
      "metadata": {
        "id": "ufW00TGcs3Jj"
      },
      "outputs": [],
      "source": [
        "K.clear_session()"
      ]
    },
    {
      "cell_type": "code",
      "source": [
        "X_train[0]"
      ],
      "metadata": {
        "id": "ENOqzYyzqc9s"
      },
      "execution_count": null,
      "outputs": []
    },
    {
      "cell_type": "code",
      "execution_count": null,
      "metadata": {
        "id": "zspaUptgtW9l",
        "colab": {
          "base_uri": "https://localhost:8080/"
        },
        "outputId": "552f47be-a668-4b44-e088-b59da2c62f95"
      },
      "outputs": [
        {
          "output_type": "stream",
          "name": "stdout",
          "text": [
            "Model: \"model_4\"\n",
            "_________________________________________________________________\n",
            " Layer (type)                Output Shape              Param #   \n",
            "=================================================================\n",
            " input_5 (InputLayer)        [(None, 100)]             0         \n",
            "                                                                 \n",
            " embedding_11 (Embedding)    (None, 100, 32)           160000    \n",
            "                                                                 \n",
            " lambda_11 (Lambda)          (None, 32)                0         \n",
            "                                                                 \n",
            " dense_8 (Dense)             (None, 1)                 33        \n",
            "                                                                 \n",
            " activation_7 (Activation)   (None, 1)                 0         \n",
            "                                                                 \n",
            "=================================================================\n",
            "Total params: 160033 (625.13 KB)\n",
            "Trainable params: 160033 (625.13 KB)\n",
            "Non-trainable params: 0 (0.00 Byte)\n",
            "_________________________________________________________________\n",
            "None\n"
          ]
        }
      ],
      "source": [
        "# --- create the model\n",
        "# CODE-RNN1-2\n",
        "if student:\n",
        "    # --- START CODE HERE (02)\n",
        "    # --- Using the Sequential API\n",
        "    ...\n",
        "    # --- END CODE HERE\n",
        "\n",
        "    # --- START CODE HERE (03)\n",
        "    # --- Using the Functional API\n",
        "    ...\n",
        "    # --- END CODE HERE\n",
        "\n",
        "print(model.summary())"
      ]
    },
    {
      "cell_type": "code",
      "execution_count": null,
      "metadata": {
        "id": "pFXz4AS6tawQ",
        "colab": {
          "base_uri": "https://localhost:8080/"
        },
        "outputId": "7f6e1919-24b3-4d28-b4b9-383d127d2b90"
      },
      "outputs": [
        {
          "output_type": "stream",
          "name": "stdout",
          "text": [
            "Epoch 1/3\n",
            "391/391 [==============================] - 33s 71ms/step - loss: 0.6394 - accuracy: 0.7346 - val_loss: 0.5624 - val_accuracy: 0.7737\n",
            "Epoch 2/3\n",
            "391/391 [==============================] - 7s 19ms/step - loss: 0.4866 - accuracy: 0.8163 - val_loss: 0.4405 - val_accuracy: 0.8236\n",
            "Epoch 3/3\n",
            "391/391 [==============================] - 4s 10ms/step - loss: 0.3940 - accuracy: 0.8453 - val_loss: 0.3858 - val_accuracy: 0.8346\n"
          ]
        },
        {
          "output_type": "execute_result",
          "data": {
            "text/plain": [
              "<keras.src.callbacks.History at 0x7a9dcf6cb2e0>"
            ]
          },
          "metadata": {},
          "execution_count": 22
        }
      ],
      "source": [
        "# --- compile and fit the model\n",
        "model.compile(loss='binary_crossentropy', optimizer='adam', metrics=['accuracy'])\n",
        "model.fit(X_train, y_train, epochs=3, batch_size=64, validation_data=(X_test, y_test))"
      ]
    },
    {
      "cell_type": "markdown",
      "metadata": {
        "id": "SBqyzLJRUIsC"
      },
      "source": [
        "## Results\n",
        "\n",
        "After only 3 epochs, you should obtain an accuracy around 83-84% for the test data."
      ]
    },
    {
      "cell_type": "code",
      "execution_count": null,
      "metadata": {
        "id": "nCALyP-Q_HNH",
        "colab": {
          "base_uri": "https://localhost:8080/"
        },
        "outputId": "155cc5cf-2966-4e83-8fb1-d053e1576520"
      },
      "outputs": [
        {
          "output_type": "stream",
          "name": "stdout",
          "text": [
            "Accuracy: 83.46%\n"
          ]
        }
      ],
      "source": [
        "# --- Final evaluation of the model\n",
        "scores = model.evaluate(X_test, y_test, verbose=0)\n",
        "print(\"Accuracy: %.2f%%\" % (scores[1]*100))"
      ]
    },
    {
      "cell_type": "markdown",
      "metadata": {
        "id": "uRP-h4Xr_HNJ"
      },
      "source": [
        "## Using the trained embedding to find equivalence between words\n",
        "\n",
        "Since the embedding is part of the models, we can look at the trained embedding matrix $E$ and use it to get the most similar words (according to the trained matrix $E$) in the dictionary.\n",
        "Use the weights of the ```Embedding``` layer to find the most similar words to ```great```. We will use an Euclidean distance for that.\n",
        "- Retrieve the weights of the ```Embedding layer```\n",
        "- Get the position of ```great``` in the dictionary\n",
        "- Get the word-embedding of ```great```\n",
        "- Find (using Euclidean distance), the closest embedded-words to ```great```"
      ]
    },
    {
      "cell_type": "code",
      "source": [
        "model.layers[0].get_weights()[0].shape"
      ],
      "metadata": {
        "id": "80kbJi1duJay"
      },
      "execution_count": null,
      "outputs": []
    },
    {
      "cell_type": "code",
      "execution_count": null,
      "metadata": {
        "id": "7xMubRqJ_HNJ",
        "colab": {
          "base_uri": "https://localhost:8080/"
        },
        "outputId": "d809e824-885a-4e96-f5c2-b78fc5aed268"
      },
      "outputs": [
        {
          "output_type": "stream",
          "name": "stdout",
          "text": [
            "great\n",
            "excellent\n",
            "perfect\n",
            "7\n",
            "wonderful\n",
            "highly\n",
            "8\n",
            "amazing\n",
            "superb\n",
            "best\n",
            "favorite\n",
            "loved\n",
            "fantastic\n",
            "9\n",
            "recommended\n",
            "brilliant\n",
            "today\n",
            "love\n",
            "enjoyed\n",
            "definitely\n"
          ]
        }
      ],
      "source": [
        "if student:\n",
        "    # --- START CODE HERE (04)\n",
        "    ...\n",
        "    # --- END CODE HERE\n",
        "for i in np.argsort(dist_v)[0:20]: print(id_to_word[i])"
      ]
    },
    {
      "cell_type": "markdown",
      "metadata": {
        "id": "zK9e5Eo1Ks2a"
      },
      "source": [
        "# Second model\n",
        "\n",
        "In the second model, we will replace\n",
        "- the average over the sequence of the obtained embedding\n",
        "- by a RNN layer (more precisely an ```LSTM```) in a Many-To-One configuration with $n_a=128$\n",
        "\n",
        "We will code this model\n",
        "- First, using the Sequential API of keras (https://keras.io/models/sequential/)\n",
        "- Secondly, using the Functional API of keras (https://keras.io/getting-started/functional-api-guide/)\n",
        "\n"
      ]
    },
    {
      "cell_type": "code",
      "execution_count": null,
      "metadata": {
        "id": "rwoXuOqqVDOy"
      },
      "outputs": [],
      "source": [
        "K.clear_session()"
      ]
    },
    {
      "cell_type": "code",
      "execution_count": null,
      "metadata": {
        "id": "7dl-CSMKoViX",
        "colab": {
          "base_uri": "https://localhost:8080/"
        },
        "outputId": "75f0dc18-b212-4d99-99e9-72a2cbfb8d9f"
      },
      "outputs": [
        {
          "output_type": "stream",
          "name": "stdout",
          "text": [
            "Model: \"sequential_20\"\n",
            "_________________________________________________________________\n",
            " Layer (type)                Output Shape              Param #   \n",
            "=================================================================\n",
            " embedding_24 (Embedding)    (None, 100, 32)           160000    \n",
            "                                                                 \n",
            " lstm_13 (LSTM)              (None, 128)               82432     \n",
            "                                                                 \n",
            " dense_19 (Dense)            (None, 1)                 129       \n",
            "                                                                 \n",
            " activation_16 (Activation)  (None, 1)                 0         \n",
            "                                                                 \n",
            "=================================================================\n",
            "Total params: 242561 (947.50 KB)\n",
            "Trainable params: 242561 (947.50 KB)\n",
            "Non-trainable params: 0 (0.00 Byte)\n",
            "_________________________________________________________________\n",
            "None\n"
          ]
        }
      ],
      "source": [
        "# --- create the model\n",
        "\n",
        "if student:\n",
        "    # --- START CODE HERE (05)\n",
        "    # --- Using the Sequential API\n",
        "    ...\n",
        "    # --- END CODE HERE\n",
        "\n",
        "    # --- START CODE HERE (06)\n",
        "    # --- Using the Functional API\n",
        "    #model = ...\n",
        "    # --- END CODE HERE\n",
        "\n",
        "print(model.summary())"
      ]
    },
    {
      "cell_type": "code",
      "execution_count": null,
      "metadata": {
        "id": "-bp7PzX7oXtB",
        "scrolled": true,
        "colab": {
          "base_uri": "https://localhost:8080/"
        },
        "outputId": "b8cb73b0-de50-4652-dcb6-8d128c35b9d2"
      },
      "outputs": [
        {
          "output_type": "stream",
          "name": "stdout",
          "text": [
            "Epoch 1/3\n",
            "391/391 [==============================] - 28s 62ms/step - loss: 0.4480 - accuracy: 0.7796 - val_loss: 0.3460 - val_accuracy: 0.8487\n",
            "Epoch 2/3\n",
            "391/391 [==============================] - 8s 20ms/step - loss: 0.3075 - accuracy: 0.8718 - val_loss: 0.3634 - val_accuracy: 0.8445\n",
            "Epoch 3/3\n",
            "391/391 [==============================] - 8s 20ms/step - loss: 0.2736 - accuracy: 0.8888 - val_loss: 0.3553 - val_accuracy: 0.8470\n"
          ]
        },
        {
          "output_type": "execute_result",
          "data": {
            "text/plain": [
              "<keras.src.callbacks.History at 0x7a9dcecfc970>"
            ]
          },
          "metadata": {},
          "execution_count": 61
        }
      ],
      "source": [
        "# --- compile and fit the model\n",
        "model.compile(loss='binary_crossentropy', optimizer='adam', metrics=['accuracy'])\n",
        "model.fit(X_train, y_train, epochs=3, batch_size=64, validation_data=(X_test, y_test))"
      ]
    },
    {
      "cell_type": "markdown",
      "metadata": {
        "id": "F1LN_fjMWBHJ"
      },
      "source": [
        "## Results\n",
        "\n",
        "After only 3 epochs, you should obtain an accuracy around 84-85% for the test data."
      ]
    },
    {
      "cell_type": "code",
      "execution_count": null,
      "metadata": {
        "id": "RlMEKRbzoavm"
      },
      "outputs": [],
      "source": [
        "# --- Final evaluation of the model\n",
        "scores = model.evaluate(X_test, y_test, verbose=0)\n",
        "print(\"Accuracy: %.2f%%\" % (scores[1]*100))"
      ]
    },
    {
      "cell_type": "markdown",
      "metadata": {
        "id": "LVK5sGgF_HNX"
      },
      "source": [
        "# Evaluation\n",
        "\n",
        "To evaluate the work, you should rate the code for\n",
        "- 1) Data Pre-Processing (01)\n",
        "- 2) First model using the Sequential API (02)\n",
        "- 3) First model using the Functional API (03)\n",
        "- 4) Find equivalence between words (04)\n",
        "- 5) Second model using the Sequential API (05)\n",
        "- 6) Second model using the Functional API (06)\n"
      ]
    }
  ],
  "metadata": {
    "accelerator": "GPU",
    "colab": {
      "provenance": [],
      "include_colab_link": true
    },
    "kernelspec": {
      "display_name": "Python 3",
      "language": "python",
      "name": "python3"
    },
    "language_info": {
      "codemirror_mode": {
        "name": "ipython",
        "version": 3
      },
      "file_extension": ".py",
      "mimetype": "text/x-python",
      "name": "python",
      "nbconvert_exporter": "python",
      "pygments_lexer": "ipython3",
      "version": "3.8.5"
    },
    "toc": {
      "base_numbering": 1,
      "nav_menu": {},
      "number_sections": true,
      "sideBar": true,
      "skip_h1_title": false,
      "title_cell": "Table of Contents",
      "title_sidebar": "Contents",
      "toc_cell": false,
      "toc_position": {},
      "toc_section_display": true,
      "toc_window_display": false
    }
  },
  "nbformat": 4,
  "nbformat_minor": 0
}